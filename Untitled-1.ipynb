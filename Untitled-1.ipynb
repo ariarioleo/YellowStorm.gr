{
 "cells": [
  {
   "cell_type": "code",
   "execution_count": null,
   "id": "caa74f36",
   "metadata": {},
   "outputs": [],
   "source": [
    "<!DOCTYPE html>\n",
    "<html lang=\"el\">\n",
    "<head>\n",
    "    <meta charset=\"UTF-8\">\n",
    "    <title>Άρης Θεσσαλονίκης</title>\n",
    "    <link rel=\"stylesheet\" href=\"style.css\">\n",
    "</head>\n",
    "<body>\n",
    "    <header>\n",
    "        <h1>Άρης Θεσσαλονίκης</h1>\n",
    "        <img src=\"aris-logo.png\" alt=\"Άρης Λογότυπο\" width=\"150\">\n",
    "        <nav>\n",
    "            <a href=\"#\">Αρχική</a>\n",
    "            <a href=\"#\">Ιστορία</a>\n",
    "            <a href=\"#\">Νέα</a>\n",
    "            <a href=\"#\">Επικοινωνία</a>\n",
    "        </nav>\n",
    "    </header>\n",
    "\n",
    "    <main>\n",
    "        <section>\n",
    "            <h2>Καλώς ήρθατε!</h2>\n",
    "            <p>Ο Άρης Θεσσαλονίκης είναι ένας από τους ιστορικότερους αθλητικούς συλλόγους της Ελλάδας, με έδρα τη Θεσσαλονίκη. Διαθέτει ομάδες σε ποδόσφαιρο, μπάσκετ, βόλεϊ και άλλα αθλήματα.</p>\n",
    "        </section>\n",
    "\n",
    "        <section>\n",
    "    <h2>Φωτογραφίες</h2>\n",
    "    <img src=\"vikelidis.jpg\" alt=\"Γήπεδο Κλεάνθης Βικελίδης\" width=\"300\">\n",
    "    <img src=\"team.jpg\" alt=\"Ομάδα Ποδοσφαίρου\" width=\"300\">\n",
    "</section>\n",
    "\n",
    "        <section>\n",
    "            <h2>Ακολουθήστε μας</h2>\n",
    "            <ul>\n",
    "                <li><a href=\"https://www.facebook.com/ARISFC\" target=\"_blank\">Facebook</a></li>\n",
    "                <li><a href=\"https://www.instagram.com/arisfc_official/\" target=\"_blank\">Instagram</a></li>\n",
    "                <li><a href=\"https://arisfc.com.gr\" target=\"_blank\">Επίσημη Ιστοσελίδα</a></li>\n",
    "            </ul>\n",
    "        </section>\n",
    "    </main>\n",
    "\n",
    "    <footer>\n",
    "        <p>© 2025 Άρης Θεσσαλονίκης. Όλα τα δικαιώματα διατηρούνται.</p>\n",
    "    </footer>\n",
    "</body>\n",
    "</html>\n"
   ]
  }
 ],
 "metadata": {
  "language_info": {
   "name": "python"
  }
 },
 "nbformat": 4,
 "nbformat_minor": 5
}
