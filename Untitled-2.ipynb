{
 "cells": [
  {
   "cell_type": "code",
   "execution_count": null,
   "id": "1cfc8404",
   "metadata": {
    "vscode": {
     "languageId": "css"
    }
   },
   "outputs": [],
   "source": [
    "body {\n",
    "    font-family: Arial, sans-serif;\n",
    "    margin: 0;\n",
    "    padding: 0;\n",
    "    background-color: #fffde7;\n",
    "    color: #000;\n",
    "}\n",
    "\n",
    "header {\n",
    "    background-color: #ffcc00;\n",
    "    text-align: center;\n",
    "    padding: 20px;\n",
    "}\n",
    "\n",
    "header img {\n",
    "    margin-top: 10px;\n",
    "}\n",
    "\n",
    "nav a {\n",
    "    margin: 0 15px;\n",
    "    text-decoration: none;\n",
    "    color: black;\n",
    "    font-weight: bold;\n",
    "}\n",
    "\n",
    "main {\n",
    "    padding: 20px;\n",
    "}\n",
    "\n",
    "section {\n",
    "    margin-bottom: 30px;\n",
    "}\n",
    "\n",
    "footer {\n",
    "    background-color: #333;\n",
    "    color: white;\n",
    "    text-align: center;\n",
    "    padding: 10px;\n",
    "}\n"
   ]
  }
 ],
 "metadata": {
  "language_info": {
   "name": "python"
  }
 },
 "nbformat": 4,
 "nbformat_minor": 5
}
